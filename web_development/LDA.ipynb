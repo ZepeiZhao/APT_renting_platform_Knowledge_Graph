{
  "nbformat": 4,
  "nbformat_minor": 0,
  "metadata": {
    "colab": {
      "name": "LDA.ipynb",
      "provenance": [],
      "collapsed_sections": []
    },
    "kernelspec": {
      "name": "python3",
      "display_name": "Python 3"
    }
  },
  "cells": [
    {
      "cell_type": "markdown",
      "metadata": {
        "id": "zOlPYOWS3ORW"
      },
      "source": [
        "reference from: https://github.com/susanli2016/NLP-with-Python/blob/master/LDA_news_headlines.ipynb"
      ]
    },
    {
      "cell_type": "code",
      "metadata": {
        "id": "t4KBWtWTKSNC"
      },
      "source": [
        "import os\n",
        "from google.colab import drive\n",
        "drive.mount('/content/drive')\n",
        "\n",
        "path = \"/content/drive/My Drive/Colab Notebooks\""
      ],
      "execution_count": null,
      "outputs": []
    },
    {
      "cell_type": "code",
      "metadata": {
        "id": "wknCqro_KowR"
      },
      "source": [
        "pip install pandas"
      ],
      "execution_count": null,
      "outputs": []
    },
    {
      "cell_type": "code",
      "metadata": {
        "id": "1diTVIwLCGCW"
      },
      "source": [
        "import pandas as pd"
      ],
      "execution_count": null,
      "outputs": []
    },
    {
      "cell_type": "code",
      "metadata": {
        "id": "PSes8_iSCHpl"
      },
      "source": [
        "data = pd.read_csv('/content/drive/My Drive/Colab Notebooks/la_aptFinder_basic_info.csv', error_bad_lines=False,encoding='utf-8')\n",
        "data_text = data[['description']]\n",
        "data_text['index'] = data_text.index\n",
        "data_text.rename(columns={'description':'headline_text'}, inplace = True)\n",
        "data_text = data_text.dropna(subset=['headline_text'])\n",
        "documents = data_text"
      ],
      "execution_count": null,
      "outputs": []
    },
    {
      "cell_type": "code",
      "metadata": {
        "id": "RAUS1p2Su1LX"
      },
      "source": [
        "result_text = data[['description','aptFinder_url']]"
      ],
      "execution_count": null,
      "outputs": []
    },
    {
      "cell_type": "code",
      "metadata": {
        "id": "A5Lym0vpvH_X"
      },
      "source": [
        "result_text = result_text.dropna(subset=['description'])"
      ],
      "execution_count": null,
      "outputs": []
    },
    {
      "cell_type": "code",
      "metadata": {
        "id": "0J5kiE5JFTJI"
      },
      "source": [
        "length = len(documents)"
      ],
      "execution_count": null,
      "outputs": []
    },
    {
      "cell_type": "code",
      "metadata": {
        "id": "Bacl_qGDClpo"
      },
      "source": [
        "pip install gensim\n",
        "pip install nltk\n",
        "pip install numpy"
      ],
      "execution_count": null,
      "outputs": []
    },
    {
      "cell_type": "code",
      "metadata": {
        "id": "THbH76_7C2A2"
      },
      "source": [
        "import gensim\n",
        "from gensim.utils import simple_preprocess\n",
        "from gensim.parsing.preprocessing import STOPWORDS\n",
        "from nltk.stem import WordNetLemmatizer, SnowballStemmer\n",
        "from nltk.stem.porter import *\n",
        "import numpy as np\n",
        "np.random.seed(2020)\n",
        "import nltk\n",
        "nltk.download('wordnet')"
      ],
      "execution_count": null,
      "outputs": []
    },
    {
      "cell_type": "code",
      "metadata": {
        "id": "ypoGLDQQC-2O"
      },
      "source": [
        "def lemmatize_stemming(text):\n",
        "    return stemmer.stem(WordNetLemmatizer().lemmatize(text, pos='v'))\n",
        "\n",
        "def preprocess(text):\n",
        "    result = []\n",
        "    for token in gensim.utils.simple_preprocess(text):\n",
        "        if token not in gensim.parsing.preprocessing.STOPWORDS and len(token) > 3:\n",
        "            result.append(lemmatize_stemming(token))\n",
        "    return result"
      ],
      "execution_count": null,
      "outputs": []
    },
    {
      "cell_type": "code",
      "metadata": {
        "id": "LRNeTBq7Exxo"
      },
      "source": [
        "processed_docs = documents['headline_text'].map(preprocess)"
      ],
      "execution_count": null,
      "outputs": []
    },
    {
      "cell_type": "markdown",
      "metadata": {
        "id": "k9b-yBOeFo8X"
      },
      "source": [
        "Bag of words on dataset"
      ]
    },
    {
      "cell_type": "code",
      "metadata": {
        "id": "u7SOYdOvFsL1"
      },
      "source": [
        "dictionary = gensim.corpora.Dictionary(processed_docs)"
      ],
      "execution_count": null,
      "outputs": []
    },
    {
      "cell_type": "code",
      "metadata": {
        "id": "wWieiykXGA7n"
      },
      "source": [
        "dictionary.filter_extremes(no_below=15, no_above=0.5, keep_n=100000)"
      ],
      "execution_count": null,
      "outputs": []
    },
    {
      "cell_type": "code",
      "metadata": {
        "id": "6_tGZI2ZGQYt"
      },
      "source": [
        "bow_corpus = [dictionary.doc2bow(doc) for doc in processed_docs]"
      ],
      "execution_count": null,
      "outputs": []
    },
    {
      "cell_type": "markdown",
      "metadata": {
        "id": "vYTuRi9JGgcQ"
      },
      "source": [
        "TF-IDF"
      ]
    },
    {
      "cell_type": "code",
      "metadata": {
        "id": "jxOSdFtjGiPA"
      },
      "source": [
        "from gensim import corpora, models\n",
        "\n",
        "tfidf = models.TfidfModel(bow_corpus)"
      ],
      "execution_count": null,
      "outputs": []
    },
    {
      "cell_type": "code",
      "metadata": {
        "id": "Z7k5ODrAGk-P"
      },
      "source": [
        "corpus_tfidf = tfidf[bow_corpus]"
      ],
      "execution_count": null,
      "outputs": []
    },
    {
      "cell_type": "markdown",
      "metadata": {
        "id": "GnG4111VGwH1"
      },
      "source": [
        "Run LDA using bag of words"
      ]
    },
    {
      "cell_type": "code",
      "metadata": {
        "id": "LZNOqvuiGrTi"
      },
      "source": [
        "lda_model = gensim.models.LdaMulticore(bow_corpus, num_topics=20, id2word=dictionary, passes=2, workers=2)\n",
        "# for idx, topic in lda_model.print_topics(-1):\n",
        "#     print('Topic: {} \\nWords: {}'.format(idx, topic))"
      ],
      "execution_count": null,
      "outputs": []
    },
    {
      "cell_type": "markdown",
      "metadata": {
        "id": "LQjWf2tuHM1F"
      },
      "source": [
        "Runing LDA using TF-IDF"
      ]
    },
    {
      "cell_type": "code",
      "metadata": {
        "id": "QZuwl3dQHRmR"
      },
      "source": [
        "lda_model_tfidf = gensim.models.LdaMulticore(corpus_tfidf, num_topics=20, id2word=dictionary, passes=2, workers=4)\n",
        "# for idx, topic in lda_model_tfidf.print_topics(-1):\n",
        "#     print('Topic: {} Word: {}'.format(idx, topic))"
      ],
      "execution_count": null,
      "outputs": []
    },
    {
      "cell_type": "markdown",
      "metadata": {
        "id": "HjuFdHK1IEm3"
      },
      "source": [
        "classification of topics"
      ]
    },
    {
      "cell_type": "markdown",
      "metadata": {
        "id": "r1_2zUr3I3LY"
      },
      "source": [
        "--evaluate bag of words"
      ]
    },
    {
      "cell_type": "code",
      "metadata": {
        "id": "eqzvflHHVb2b"
      },
      "source": [
        "result_topic = []\n",
        "for i in range(0,length):\n",
        "  result_topic.append(lda_model.get_document_topics(bow_corpus[i])[0])"
      ],
      "execution_count": null,
      "outputs": []
    },
    {
      "cell_type": "code",
      "metadata": {
        "id": "1RZ4FQFPBOfX"
      },
      "source": [
        "aptFinder_list = result_text['aptFinder_url'].values.tolist()"
      ],
      "execution_count": null,
      "outputs": []
    },
    {
      "cell_type": "code",
      "metadata": {
        "id": "aLKGTUx60pKA",
        "colab": {
          "base_uri": "https://localhost:8080/"
        },
        "outputId": "6b7291a8-77b0-42e6-f3fe-74958a1dcd51"
      },
      "source": [
        "k = [x[0] for x in result_topic]\n",
        "sum_k = [x[1] for x in result_topic]\n",
        "dic_k = {}\n",
        "for i in k:\n",
        "  if i in dic_k.keys():\n",
        "    dic_k[i]+= 1\n",
        "  else:\n",
        "    dic_k[i] = 1\n",
        "dic_aptFinder = {}\n",
        "for ii in range(0,length):\n",
        "  if k[ii] not in dic_aptFinder.keys():\n",
        "    dic_aptFinder[k[ii]] = []\n",
        "    dic_aptFinder[k[ii]].append(aptFinder_list[ii])\n",
        "  elif k[ii] in dic_aptFinder.keys():\n",
        "    dic_aptFinder[k[ii]].append(aptFinder_list[ii])"
      ],
      "execution_count": null,
      "outputs": [
        {
          "output_type": "stream",
          "text": [
            "['https://www.apartmentfinder.com/California/Los-Angeles-Apartments/Hwh-Luxury-Living-Up-To-8-Weeks-Free-Apartments-yq5vkbv', 'https://www.apartmentfinder.com/California/Los-Angeles-Apartments/The-Adler-Apartments-mjj639h', 'https://www.apartmentfinder.com/California/Marina-Del-Rey-Apartments/Shores-Now-Touring-W-Amazing-Specials-Apartments-nllm53p', 'https://www.apartmentfinder.com/California/Los-Angeles-Apartments/The-Culver-Apartments-0rggg10', 'https://www.apartmentfinder.com/California/Los-Angeles-Apartments/Park-La-Brea-Apartments', 'https://www.apartmentfinder.com/California/Los-Angeles-Apartments/The-Emerson-Apartments', 'https://www.apartmentfinder.com/California/Los-Angeles-Apartments/Kodo-Apartments-0xlegy3', 'https://www.apartmentfinder.com/California/Los-Angeles-Apartments/Blackstone-Apartments-4-8-Weeks-Free-Apartments-45dexsl', 'https://www.apartmentfinder.com/California/Los-Angeles-Apartments/The-Pines-Apartments-vf2n07e', 'https://www.apartmentfinder.com/California/Los-Angeles-Apartments/Mozaic-At-Union-Station-Apartments', 'https://www.apartmentfinder.com/California/Los-Angeles-Apartments/Blueground-Furnished-Apartments-Hollywood-Apartments-e2xy9gq', 'https://www.apartmentfinder.com/California/Los-Angeles-Apartments/The-Bw-By-Clg-Apartments-d57x2th', 'https://www.apartmentfinder.com/California/North-Hollywood-Apartments/Nve-Apartments-12nckv6', 'https://www.apartmentfinder.com/California/San-Pedro-Apartments/Harborview-Apartments-8d04dz1', 'https://www.apartmentfinder.com/California/Woodland-Hills-Apartments/Eton-Warner-Apartments-1qh3cr6', 'https://www.apartmentfinder.com/California/Los-Angeles-Apartments/The-Continental-Building-Apartments-9qxcvx4', 'https://www.apartmentfinder.com/California/West-Hollywood-Apartments/North-Harper-House-Apartments', 'https://www.apartmentfinder.com/California/Culver-City-Apartments/9520-Lucerne-Ave-Apartments-yqv7rvv', 'https://www.apartmentfinder.com/California/Studio-City-Apartments/Catalina-Apartments', 'https://www.apartmentfinder.com/California/Hollywood-Apartments/Bonita-Terrace-Apartments-p1tjvdv', 'https://www.apartmentfinder.com/California/North-Hollywood-Apartments/Urban-Hartsook-Apartments-kl59j1b', 'https://www.apartmentfinder.com/California/Reseda-Apartments/Corbin-Terrace-Apartments', 'https://www.apartmentfinder.com/California/Van-Nuys-Apartments/Saticoy-Gardens-Apartments', 'https://www.apartmentfinder.com/California/Los-Angeles-Apartments/Westside-Villas-Apartments', 'https://www.apartmentfinder.com/California/Los-Angeles-Apartments/The-Cleo-Apartments', 'https://www.apartmentfinder.com/California/Los-Angeles-Apartments/Catalina-Apartments-2r0k2p8', 'https://www.apartmentfinder.com/California/Los-Angeles-Apartments/Moxie-Clover-Apartments-dzmdcdj', 'https://www.apartmentfinder.com/California/Los-Angeles-Apartments/Inspire-Colton-Apartments-lrqxzcg', 'https://www.apartmentfinder.com/California/Los-Angeles-Apartments/4252-Crenshaw-Apartments-r9xdj03', 'https://www.apartmentfinder.com/California/Los-Angeles-Apartments/Https-Junction4121com-Apartments-ewx8jlm', 'https://www.apartmentfinder.com/California/Los-Angeles-Apartments/Marathon-Apartments', 'https://www.apartmentfinder.com/California/Culver-City-Apartments/Meadows-Apartments', 'https://www.apartmentfinder.com/California/Northridge-Apartments/Maravilla-Apartments-At-Csun-Apartments-fjtv7hv', 'https://www.apartmentfinder.com/California/Woodland-Hills-Apartments/AMLI-Warner-Center-Apartments', 'https://www.apartmentfinder.com/California/Wilmington-Apartments/Portofino-Townhomes-Apartments', 'https://www.apartmentfinder.com/California/Los-Angeles-Apartments/The-Jasmine-Collection-Apartments-687y2vr', 'https://www.apartmentfinder.com/California/Los-Angeles-Apartments/Blu-On-Burns-Apartments-7gfsygw', 'https://www.apartmentfinder.com/California/Los-Angeles-Apartments/Montrose-House-Apartments-j9ptcp6', 'https://www.apartmentfinder.com/California/Los-Angeles-Apartments/Terrace-Trousdale-Apartments-ee5xhgq', 'https://www.apartmentfinder.com/California/Los-Angeles-Apartments/Beverlywood-Luxury-Apartments-3v6dk2g', 'https://www.apartmentfinder.com/California/Beverly-Hills-Apartments/350-North-Palm-Drive-Apartments', 'https://www.apartmentfinder.com/California/Los-Angeles-Apartments/Century-Glen-Apartments', 'https://www.apartmentfinder.com/California/Los-Angeles-Apartments/Villas-At-Kentwood-Apartments', 'https://www.apartmentfinder.com/California/Los-Angeles-Apartments/Gracie-On-Gramercy-Apartments-d93j6cj', 'https://www.apartmentfinder.com/California/Beverly-Hills-Apartments/468-South-Roxbury-Apartments', 'https://www.apartmentfinder.com/California/Studio-City-Apartments/Bluffside-Gardens-Apartments', 'https://www.apartmentfinder.com/California/Los-Angeles-Apartments/1426-S-Wooster-St-Apartments-qy2c7dx', 'https://www.apartmentfinder.com/California/Los-Angeles-Apartments/1178-W-24Th-St-Apartments-4wyd6mh', 'https://www.apartmentfinder.com/California/North-Hollywood-Apartments/Gilmore-Apartments-North-Hollywood-Apartments-p71tzhs', 'https://www.apartmentfinder.com/California/North-Hollywood-Apartments/Gilmore-Hamlin-Apartments-3css91f', 'https://www.apartmentfinder.com/California/Los-Angeles-Apartments/Sunset-Barrington-Gardens-Apartments', 'https://www.apartmentfinder.com/California/Los-Angeles-Apartments/The-Hillpointe-Luxury-Apartments-fcyzyst', 'https://www.apartmentfinder.com/California/Santa-Monica-Apartments/Centinela-Luxury-Cottages-Now-Available-Apartments-z3cdxcx']\n"
          ],
          "name": "stdout"
        }
      ]
    },
    {
      "cell_type": "code",
      "metadata": {
        "id": "XnRneHVC2MKY"
      },
      "source": [
        "sum(sum_k)/length"
      ],
      "execution_count": null,
      "outputs": []
    },
    {
      "cell_type": "code",
      "metadata": {
        "id": "ZlfBcAdd2AQt"
      },
      "source": [
        "dic_k"
      ],
      "execution_count": null,
      "outputs": []
    },
    {
      "cell_type": "code",
      "metadata": {
        "id": "g1ZS4ODlIGq4"
      },
      "source": [
        "# for index, score in sorted(lda_model[bow_corpus[120]], key=lambda tup: -1*tup[1]):\n",
        "#     print(\"\\nScore: {}\\t \\nTopic: {}\".format(score, lda_model.print_topic(index, 40)))"
      ],
      "execution_count": null,
      "outputs": []
    },
    {
      "cell_type": "markdown",
      "metadata": {
        "id": "GunbwNFbI7yx"
      },
      "source": [
        "--evaluate TF-IDF"
      ]
    },
    {
      "cell_type": "code",
      "metadata": {
        "id": "HuQFF-GWIRuI"
      },
      "source": [
        "# for index, score in sorted(lda_model_tfidf[bow_corpus[120]], key=lambda tup: -1*tup[1]):\n",
        "#     print(\"\\nScore: {}\\t \\nTopic: {}\".format(score, lda_model_tfidf.print_topic(index, 40)))"
      ],
      "execution_count": null,
      "outputs": []
    },
    {
      "cell_type": "code",
      "metadata": {
        "id": "4f5uJHbi2k8t"
      },
      "source": [
        "result_topic2 = []\n",
        "for i in range(0,length):\n",
        "  result_topic2.append(lda_model_tfidf.get_document_topics(bow_corpus[i])[0])"
      ],
      "execution_count": null,
      "outputs": []
    },
    {
      "cell_type": "code",
      "metadata": {
        "id": "Wc-JORAg2rU2"
      },
      "source": [
        "k2 = [x[0] for x in result_topic2]\n",
        "sum_k2 = [x[1] for x in result_topic2]\n",
        "dic_k2 = {}\n",
        "for i in k2:\n",
        "  if i in dic_k2.keys():\n",
        "    dic_k2[i]+= 1\n",
        "  else:\n",
        "    dic_k2[i] = 1\n",
        "dic_aptFinder2 = {}\n",
        "for ii in range(0,length):\n",
        "  if k2[ii] not in dic_aptFinder2.keys():\n",
        "    dic_aptFinder2[k2[ii]] = []\n",
        "    dic_aptFinder2[k2[ii]].append(aptFinder_list[ii])\n",
        "  elif k2[ii] in dic_aptFinder2.keys():\n",
        "    dic_aptFinder2[k2[ii]].append(aptFinder_list[ii])\n",
        "# print(dic_aptFinder2)\n",
        "# print(len(dic_aptFinder2[0]))"
      ],
      "execution_count": null,
      "outputs": []
    },
    {
      "cell_type": "code",
      "metadata": {
        "id": "cQ-8f5N_258I"
      },
      "source": [
        "dic_k2"
      ],
      "execution_count": null,
      "outputs": []
    },
    {
      "cell_type": "code",
      "metadata": {
        "id": "oOg7UNbM6IVU"
      },
      "source": [
        "sum(sum_k2)/length"
      ],
      "execution_count": null,
      "outputs": []
    },
    {
      "cell_type": "markdown",
      "metadata": {
        "id": "0iz_Y9L5JJ1e"
      },
      "source": [
        "Test unseen document"
      ]
    },
    {
      "cell_type": "code",
      "metadata": {
        "id": "kGpMZUmkNVJj"
      },
      "source": [
        "unseen_document = 'An apartment at holywood with big pool and easy to go to the airport.'\n",
        "bow_vector1 = dictionary.doc2bow(preprocess(unseen_document))\n",
        "bow_vector2 = dictionary.doc2bow(preprocess(unseen_document))\n",
        "topic_test1 = lda_model.get_document_topics(bow_vector1)[0]\n",
        "topic_test2 = lda_model_tfidf.get_document_topics(bow_vector2)[0]\n",
        "topic_of_query = 0\n",
        "if topic_test1[0] == topic_test2[0]:\n",
        "  topic_of_query = topic_test1[0]\n",
        "  if sum(sum_k)/length>sum(sum_k2)/length:\n",
        "    res = dic_aptFinder[topic_of_query]\n",
        "  else:\n",
        "    res = dic_aptFinder2[topic_of_query]\n",
        "else:\n",
        "  if topic_test1[1]>topic_test2[1]:\n",
        "    topic_of_query = topic_test1[0]\n",
        "    res = dic_aptFinder[topic_of_query]\n",
        "  else:\n",
        "    topic_of_query = topic_test2[0]\n",
        "    res = dic_aptFinder2[topic_of_query]"
      ],
      "execution_count": null,
      "outputs": []
    },
    {
      "cell_type": "code",
      "metadata": {
        "id": "wzRlYyEPEDNy"
      },
      "source": [
        "res"
      ],
      "execution_count": null,
      "outputs": []
    }
  ]
}